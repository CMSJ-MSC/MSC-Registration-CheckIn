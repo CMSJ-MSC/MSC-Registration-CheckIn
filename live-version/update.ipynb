{
 "cells": [
  {
   "cell_type": "markdown",
   "metadata": {},
   "source": [
    "## Merge CFF Forms - csv and current MSC Checkin - csv"
   ]
  },
  {
   "cell_type": "code",
   "execution_count": 2,
   "metadata": {},
   "outputs": [],
   "source": [
    "import pandas as pd\n",
    "\n",
    "checked_in_people = pd.read_csv('../data/participants3_cleaned.csv')\n",
    "participants_list = pd.read_csv('../data/cff_participants_cleaned.csv')\n"
   ]
  },
  {
   "cell_type": "code",
   "execution_count": 3,
   "metadata": {},
   "outputs": [],
   "source": [
    "# Reorder columns in participants_list to match desired order\n",
    "participants_list = participants_list[['Family ID', 'ContactName.first', 'ContactName.last', 'Email', 'Center', 'Address.city', 'Participants.name.first', 'Participants.name.last', 'Participants.gender', 'Category', 'PAID', 'Decided', 'checkin']]\n",
    "\n",
    "# Rename Address.city to City to match target schema\n",
    "participants_list = participants_list.rename(columns={'Address.city': 'City'})\n"
   ]
  },
  {
   "cell_type": "code",
   "execution_count": 13,
   "metadata": {},
   "outputs": [
    {
     "data": {
      "text/plain": [
       "Index(['Family ID', 'ContactName.first', 'ContactName.last', 'Email', 'Center',\n",
       "       'City', 'Participants.name.first', 'Participants.name.last',\n",
       "       'Participants.gender', 'Category', 'PAID', 'Decided', 'checkin'],\n",
       "      dtype='object')"
      ]
     },
     "execution_count": 13,
     "metadata": {},
     "output_type": "execute_result"
    }
   ],
   "source": [
    "checked_in_people.columns"
   ]
  },
  {
   "cell_type": "code",
   "execution_count": 4,
   "metadata": {},
   "outputs": [],
   "source": [
    "# Only add rows from participants_list that are not already in checked_in_people\n",
    "# This assumes exact row match — can be customized with subset\n",
    "new_rows = participants_list[~participants_list.apply(tuple, axis=1).isin(checked_in_people.apply(tuple, axis=1))]\n",
    "\n",
    "# Append without changing structure\n",
    "checked_in_people = pd.concat([checked_in_people, new_rows], ignore_index=True)\n"
   ]
  },
  {
   "cell_type": "code",
   "execution_count": 5,
   "metadata": {},
   "outputs": [],
   "source": [
    "# Save the updated dataframe with city information to CSV\n",
    "checked_in_people.to_csv('../data/participants3_cleaned.csv', index=False)"
   ]
  },
  {
   "cell_type": "code",
   "execution_count": null,
   "metadata": {},
   "outputs": [],
   "source": []
  }
 ],
 "metadata": {
  "kernelspec": {
   "display_name": "base",
   "language": "python",
   "name": "python3"
  },
  "language_info": {
   "codemirror_mode": {
    "name": "ipython",
    "version": 3
   },
   "file_extension": ".py",
   "mimetype": "text/x-python",
   "name": "python",
   "nbconvert_exporter": "python",
   "pygments_lexer": "ipython3",
   "version": "3.12.4"
  }
 },
 "nbformat": 4,
 "nbformat_minor": 2
}
