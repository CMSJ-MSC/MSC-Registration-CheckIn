{
 "cells": [
  {
   "cell_type": "code",
   "execution_count": 5,
   "metadata": {},
   "outputs": [],
   "source": [
    "import pandas as pd"
   ]
  },
  {
   "cell_type": "code",
   "execution_count": null,
   "metadata": {},
   "outputs": [],
   "source": [
    "import pandas as pd\n",
    "\n",
    "participants = pd.read_csv('../data/participants3_cleaned.csv')\n",
    "checked_in_people = pd.read_csv('../data/MSC-Checkin.csv')\n"
   ]
  },
  {
   "cell_type": "code",
   "execution_count": null,
   "metadata": {},
   "outputs": [],
   "source": [
    "# Create a mapping of people who are checked in\n",
    "checked_in_map = {}\n",
    "for _, row in checked_in_people.iterrows():\n",
    "    if row['checkin'] == 'checked-in':\n",
    "        # Create unique key from first+last name to match people\n",
    "        key = f\"{row['Participants.name.first']}{row['Participants.name.last']}\".lower()\n",
    "        checked_in_map[key] = True\n",
    "\n",
    "# Update participants dataframe with checked-in status\n",
    "for idx, row in participants.iterrows():\n",
    "    key = f\"{row['Participants.name.first']}{row['Participants.name.last']}\".lower()\n",
    "    if key in checked_in_map:\n",
    "        participants.at[idx, 'checkin'] = 'checked-in'\n",
    "\n",
    "# Save updated participants data back to CSV\n",
    "participants.to_csv('../data/participants3_cleaned.csv', index=False)\n"
   ]
  }
 ],
 "metadata": {
  "kernelspec": {
   "display_name": "base",
   "language": "python",
   "name": "python3"
  },
  "language_info": {
   "codemirror_mode": {
    "name": "ipython",
    "version": 3
   },
   "file_extension": ".py",
   "mimetype": "text/x-python",
   "name": "python",
   "nbconvert_exporter": "python",
   "pygments_lexer": "ipython3",
   "version": "3.12.4"
  }
 },
 "nbformat": 4,
 "nbformat_minor": 2
}
