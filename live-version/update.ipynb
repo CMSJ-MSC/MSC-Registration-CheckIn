{
 "cells": [
  {
   "cell_type": "markdown",
   "metadata": {},
   "source": [
    "## Merge CFF Forms - csv and current MSC Checkin - csv"
   ]
  },
  {
   "cell_type": "code",
   "execution_count": 1,
   "metadata": {},
   "outputs": [],
   "source": [
    "import pandas as pd\n",
    "\n",
    "checked_in_people = pd.read_csv('../data/participants3_cleaned.csv')\n",
    "participants_list = pd.read_csv('../data/cff_participants_cleaned.csv')\n"
   ]
  },
  {
   "cell_type": "code",
   "execution_count": null,
   "metadata": {},
   "outputs": [],
   "source": [
    "# Create a mapping of participant info to their city\n",
    "city_map = participants_list.set_index(['Participants.name.last', 'Participants.name.first'])['Address.city']\n",
    "\n",
    "# Add city column to checked_in_people by mapping participant names to cities\n",
    "checked_in_people['Address.city'] = checked_in_people.apply(\n",
    "    lambda x: city_map.get((x['Participants.name.last'], x['Participants.name.first'])), \n",
    "    axis=1\n",
    ")\n"
   ]
  },
  {
   "cell_type": "code",
   "execution_count": 3,
   "metadata": {},
   "outputs": [],
   "source": [
    "\n",
    "# Rename Address.city to City and move it next to Center\n",
    "checked_in_people = checked_in_people.rename(columns={'Address.city': 'City'})\n",
    "\n",
    "# Get list of column names\n",
    "cols = checked_in_people.columns.tolist()\n",
    "\n",
    "# Remove City from current position\n",
    "cols.remove('City')\n",
    "\n",
    "# Find index of Center column\n",
    "center_idx = cols.index('Center')\n",
    "\n",
    "# Insert City after Center\n",
    "cols.insert(center_idx + 1, 'City')\n",
    "\n",
    "# Reorder columns\n",
    "checked_in_people = checked_in_people[cols]\n"
   ]
  },
  {
   "cell_type": "code",
   "execution_count": 5,
   "metadata": {},
   "outputs": [],
   "source": [
    "# Capitalize first letter of each word in city names\n",
    "checked_in_people['City'] = checked_in_people['City'].str.title()\n"
   ]
  },
  {
   "cell_type": "code",
   "execution_count": 6,
   "metadata": {},
   "outputs": [],
   "source": [
    "# Save the updated dataframe with city information to CSV\n",
    "checked_in_people.to_csv('../data/participants3_cleaned.csv', index=False)"
   ]
  }
 ],
 "metadata": {
  "kernelspec": {
   "display_name": "base",
   "language": "python",
   "name": "python3"
  },
  "language_info": {
   "codemirror_mode": {
    "name": "ipython",
    "version": 3
   },
   "file_extension": ".py",
   "mimetype": "text/x-python",
   "name": "python",
   "nbconvert_exporter": "python",
   "pygments_lexer": "ipython3",
   "version": "3.12.4"
  }
 },
 "nbformat": 4,
 "nbformat_minor": 2
}
