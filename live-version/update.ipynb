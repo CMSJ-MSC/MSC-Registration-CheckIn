{
 "cells": [
  {
   "cell_type": "markdown",
   "metadata": {},
   "source": [
    "## Merge CFF Forms - csv and current MSC Checkin - csv"
   ]
  },
  {
   "cell_type": "code",
   "execution_count": 41,
   "metadata": {},
   "outputs": [],
   "source": [
    "import pandas as pd\n",
    "\n",
    "participants3 = pd.read_csv('../data/participants3_cleaned.csv')\n",
    "cff_participants = pd.read_csv('../data/cff_participants_cleaned.csv')\n"
   ]
  },
  {
   "cell_type": "markdown",
   "metadata": {},
   "source": [
    "### (optional) Find differences uncommon participants between CSVs"
   ]
  },
  {
   "cell_type": "code",
   "execution_count": 48,
   "metadata": {},
   "outputs": [],
   "source": [
    "# # Find rows that are in participants3 but not in cff_participants\n",
    "# diff1 = participants3.merge(cff_participants, \n",
    "#                           how='outer', \n",
    "#                           indicator=True,\n",
    "#                           on=['Family ID', 'Participants.name.first', 'Participants.name.last'])\n",
    "\n",
    "# # Filter for rows only in participants3 ('left_only') or only in cff_participants ('right_only')\n",
    "# differences = diff1[diff1['_merge'] != 'both']\n",
    "\n",
    "# # Select relevant columns and sort by Family ID\n",
    "# differences_subset = differences[['Family ID', 'Participants.name.first', 'Participants.name.last', '_merge']]\n",
    "# differences_subset = differences_subset.sort_values('Family ID')\n",
    "\n",
    "# print(\"Records that differ between the two dataframes:\")\n",
    "# print(differences_subset.to_string())\n"
   ]
  },
  {
   "cell_type": "markdown",
   "metadata": {},
   "source": [
    "### Merge checkin values from `MSC-Checkin.csv` to newly downloaded + cleaned `cff_participants_cleaned.csv`"
   ]
  },
  {
   "cell_type": "code",
   "execution_count": 44,
   "metadata": {},
   "outputs": [],
   "source": [
    "# Copy checked-in status from participants3 to cff_participants\n",
    "checked_in_mask = participants3['checkin'] == 'checked-in'\n",
    "checked_in_rows = participants3[checked_in_mask]\n",
    "\n",
    "# For each checked-in row in participants3, update the corresponding row in cff_participants\n",
    "for _, row in checked_in_rows.iterrows():\n",
    "    match_mask = (cff_participants['Family ID'] == row['Family ID']) & \\\n",
    "                 (cff_participants['Participants.name.first'] == row['Participants.name.first']) & \\\n",
    "                 (cff_participants['Participants.name.last'] == row['Participants.name.last'])\n",
    "    cff_participants.loc[match_mask, 'checkin'] = 'checked-in'\n",
    "\n",
    "# Save updated cff_participants back to CSV\n",
    "cff_participants.to_csv('../data/participants3_cleaned.csv', index=False)\n"
   ]
  },
  {
   "cell_type": "markdown",
   "metadata": {},
   "source": [
    "### Capitalize all contact and participant names"
   ]
  },
  {
   "cell_type": "code",
   "execution_count": 45,
   "metadata": {},
   "outputs": [],
   "source": [
    "participants3 = pd.read_csv('../data/participants3_cleaned.csv')\n",
    "\n",
    "# Capitalize first letter of names\n",
    "participants3['ContactName.first'] = participants3['ContactName.first'].str.title()\n",
    "participants3['ContactName.last'] = participants3['ContactName.last'].str.title()\n",
    "participants3['Participants.name.first'] = participants3['Participants.name.first'].str.title()\n",
    "participants3['Participants.name.last'] = participants3['Participants.name.last'].str.title()\n"
   ]
  },
  {
   "cell_type": "markdown",
   "metadata": {},
   "source": [
    "### Save to `participants3_cleaned.csv`"
   ]
  },
  {
   "cell_type": "code",
   "execution_count": null,
   "metadata": {},
   "outputs": [],
   "source": [
    "participants3.to_csv('../data/participants3_cleaned.csv', index=False)"
   ]
  }
 ],
 "metadata": {
  "kernelspec": {
   "display_name": "base",
   "language": "python",
   "name": "python3"
  },
  "language_info": {
   "codemirror_mode": {
    "name": "ipython",
    "version": 3
   },
   "file_extension": ".py",
   "mimetype": "text/x-python",
   "name": "python",
   "nbconvert_exporter": "python",
   "pygments_lexer": "ipython3",
   "version": "3.12.4"
  }
 },
 "nbformat": 4,
 "nbformat_minor": 2
}
