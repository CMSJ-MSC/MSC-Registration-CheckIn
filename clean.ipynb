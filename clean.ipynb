{
 "cells": [
  {
   "cell_type": "markdown",
   "metadata": {},
   "source": [
    "# MSC Participants Data Cleaning Pipeline"
   ]
  },
  {
   "cell_type": "markdown",
   "metadata": {},
   "source": [
    "### 1. Read CSV and show table layout"
   ]
  },
  {
   "cell_type": "code",
   "execution_count": 1,
   "metadata": {},
   "outputs": [
    {
     "data": {
      "text/html": [
       "<div>\n",
       "<style scoped>\n",
       "    .dataframe tbody tr th:only-of-type {\n",
       "        vertical-align: middle;\n",
       "    }\n",
       "\n",
       "    .dataframe tbody tr th {\n",
       "        vertical-align: top;\n",
       "    }\n",
       "\n",
       "    .dataframe thead th {\n",
       "        text-align: right;\n",
       "    }\n",
       "</style>\n",
       "<table border=\"1\" class=\"dataframe\">\n",
       "  <thead>\n",
       "    <tr style=\"text-align: right;\">\n",
       "      <th></th>\n",
       "      <th>Family ID</th>\n",
       "      <th>ContactName.last</th>\n",
       "      <th>ContactName.first</th>\n",
       "      <th>Email</th>\n",
       "      <th>Center</th>\n",
       "      <th>Address.city</th>\n",
       "      <th>Participants.name.last</th>\n",
       "      <th>Participants.name.first</th>\n",
       "      <th>Participants.gender</th>\n",
       "      <th>Age Group</th>\n",
       "      <th>Grade/Age Category</th>\n",
       "      <th>PAID</th>\n",
       "      <th>Decided</th>\n",
       "    </tr>\n",
       "  </thead>\n",
       "  <tbody>\n",
       "    <tr>\n",
       "      <th>0</th>\n",
       "      <td>32</td>\n",
       "      <td>Rangaswamy</td>\n",
       "      <td>Sudharsan</td>\n",
       "      <td>yeomanly@gmail.com</td>\n",
       "      <td>cm_San_Jose</td>\n",
       "      <td>Saratoga</td>\n",
       "      <td>Rangaswamy</td>\n",
       "      <td>Sudharsan</td>\n",
       "      <td>M</td>\n",
       "      <td>Adult</td>\n",
       "      <td>36 to 59 years old</td>\n",
       "      <td>PAID</td>\n",
       "      <td>decided</td>\n",
       "    </tr>\n",
       "    <tr>\n",
       "      <th>1</th>\n",
       "      <td>32</td>\n",
       "      <td>Rangaswamy</td>\n",
       "      <td>Sudharsan</td>\n",
       "      <td>yeomanly@gmail.com</td>\n",
       "      <td>cm_San_Jose</td>\n",
       "      <td>Saratoga</td>\n",
       "      <td>Sudharsan</td>\n",
       "      <td>Usha</td>\n",
       "      <td>F</td>\n",
       "      <td>Adult</td>\n",
       "      <td>36 to 59 years old</td>\n",
       "      <td>PAID</td>\n",
       "      <td>decided</td>\n",
       "    </tr>\n",
       "    <tr>\n",
       "      <th>2</th>\n",
       "      <td>32</td>\n",
       "      <td>Rangaswamy</td>\n",
       "      <td>Sudharsan</td>\n",
       "      <td>yeomanly@gmail.com</td>\n",
       "      <td>cm_San_Jose</td>\n",
       "      <td>Saratoga</td>\n",
       "      <td>Sudharsan</td>\n",
       "      <td>Riti</td>\n",
       "      <td>F</td>\n",
       "      <td>Child</td>\n",
       "      <td>8</td>\n",
       "      <td>PAID</td>\n",
       "      <td>decided</td>\n",
       "    </tr>\n",
       "    <tr>\n",
       "      <th>3</th>\n",
       "      <td>32</td>\n",
       "      <td>Rangaswamy</td>\n",
       "      <td>Sudharsan</td>\n",
       "      <td>yeomanly@gmail.com</td>\n",
       "      <td>cm_San_Jose</td>\n",
       "      <td>Saratoga</td>\n",
       "      <td>Sudharsan</td>\n",
       "      <td>Tanvi</td>\n",
       "      <td>F</td>\n",
       "      <td>Child</td>\n",
       "      <td>2</td>\n",
       "      <td>PAID</td>\n",
       "      <td>decided</td>\n",
       "    </tr>\n",
       "    <tr>\n",
       "      <th>4</th>\n",
       "      <td>37</td>\n",
       "      <td>Pandya</td>\n",
       "      <td>Bela</td>\n",
       "      <td>bela.pandya@cmsj.org</td>\n",
       "      <td>cm_San_Jose</td>\n",
       "      <td>San Ramon</td>\n",
       "      <td>Pandya</td>\n",
       "      <td>Bela</td>\n",
       "      <td>F</td>\n",
       "      <td>Adult</td>\n",
       "      <td>36 to 59 years old</td>\n",
       "      <td>PAID</td>\n",
       "      <td>decided</td>\n",
       "    </tr>\n",
       "  </tbody>\n",
       "</table>\n",
       "</div>"
      ],
      "text/plain": [
       "   Family ID ContactName.last ContactName.first                 Email  \\\n",
       "0         32       Rangaswamy         Sudharsan    yeomanly@gmail.com   \n",
       "1         32       Rangaswamy         Sudharsan    yeomanly@gmail.com   \n",
       "2         32       Rangaswamy         Sudharsan    yeomanly@gmail.com   \n",
       "3         32       Rangaswamy         Sudharsan    yeomanly@gmail.com   \n",
       "4         37           Pandya              Bela  bela.pandya@cmsj.org   \n",
       "\n",
       "        Center Address.city Participants.name.last Participants.name.first  \\\n",
       "0  cm_San_Jose     Saratoga             Rangaswamy               Sudharsan   \n",
       "1  cm_San_Jose     Saratoga              Sudharsan                    Usha   \n",
       "2  cm_San_Jose     Saratoga              Sudharsan                    Riti   \n",
       "3  cm_San_Jose     Saratoga              Sudharsan                   Tanvi   \n",
       "4  cm_San_Jose    San Ramon                 Pandya                    Bela   \n",
       "\n",
       "  Participants.gender Age Group  Grade/Age Category  PAID  Decided  \n",
       "0                   M     Adult  36 to 59 years old  PAID  decided  \n",
       "1                   F     Adult  36 to 59 years old  PAID  decided  \n",
       "2                   F     Child                   8  PAID  decided  \n",
       "3                   F     Child                   2  PAID  decided  \n",
       "4                   F     Adult  36 to 59 years old  PAID  decided  "
      ]
     },
     "execution_count": 1,
     "metadata": {},
     "output_type": "execute_result"
    }
   ],
   "source": [
    "import pandas as pd\n",
    "\n",
    "participants = pd.read_csv('./data/raw/participants.csv')\n",
    "\n",
    "participants.head()"
   ]
  },
  {
   "cell_type": "markdown",
   "metadata": {},
   "source": [
    "### 2. Show contents of `PAID` and `Decided` columns"
   ]
  },
  {
   "cell_type": "code",
   "execution_count": 2,
   "metadata": {},
   "outputs": [
    {
     "name": "stdout",
     "output_type": "stream",
     "text": [
      "Unique values in PAID column:\n",
      "['PAID' 'PARTLY PAID' 'NOT PAID']\n",
      "\n",
      "Unique values in Decided column:\n",
      "['decided' 'duplicate' 'undecided' 'cancelled' 'refunded'\n",
      " 'partialdonation' 'fulldonation']\n"
     ]
    }
   ],
   "source": [
    "# Show unique values in PAID and Decided columns\n",
    "print(\"Unique values in PAID column:\")\n",
    "print(participants['PAID'].unique())\n",
    "print(\"\\nUnique values in Decided column:\") \n",
    "print(participants['Decided'].unique())\n"
   ]
  },
  {
   "cell_type": "markdown",
   "metadata": {},
   "source": [
    "### Filter `PAID` and `Decided` columns for desired values"
   ]
  },
  {
   "cell_type": "code",
   "execution_count": 3,
   "metadata": {},
   "outputs": [
    {
     "data": {
      "text/html": [
       "<div>\n",
       "<style scoped>\n",
       "    .dataframe tbody tr th:only-of-type {\n",
       "        vertical-align: middle;\n",
       "    }\n",
       "\n",
       "    .dataframe tbody tr th {\n",
       "        vertical-align: top;\n",
       "    }\n",
       "\n",
       "    .dataframe thead th {\n",
       "        text-align: right;\n",
       "    }\n",
       "</style>\n",
       "<table border=\"1\" class=\"dataframe\">\n",
       "  <thead>\n",
       "    <tr style=\"text-align: right;\">\n",
       "      <th></th>\n",
       "      <th>Family ID</th>\n",
       "      <th>ContactName.last</th>\n",
       "      <th>ContactName.first</th>\n",
       "      <th>Email</th>\n",
       "      <th>Center</th>\n",
       "      <th>Address.city</th>\n",
       "      <th>Participants.name.last</th>\n",
       "      <th>Participants.name.first</th>\n",
       "      <th>Participants.gender</th>\n",
       "      <th>Age Group</th>\n",
       "      <th>Grade/Age Category</th>\n",
       "      <th>PAID</th>\n",
       "      <th>Decided</th>\n",
       "    </tr>\n",
       "  </thead>\n",
       "  <tbody>\n",
       "    <tr>\n",
       "      <th>0</th>\n",
       "      <td>32</td>\n",
       "      <td>Rangaswamy</td>\n",
       "      <td>Sudharsan</td>\n",
       "      <td>yeomanly@gmail.com</td>\n",
       "      <td>cm_San_Jose</td>\n",
       "      <td>Saratoga</td>\n",
       "      <td>Rangaswamy</td>\n",
       "      <td>Sudharsan</td>\n",
       "      <td>M</td>\n",
       "      <td>Adult</td>\n",
       "      <td>36 to 59 years old</td>\n",
       "      <td>PAID</td>\n",
       "      <td>decided</td>\n",
       "    </tr>\n",
       "    <tr>\n",
       "      <th>1</th>\n",
       "      <td>32</td>\n",
       "      <td>Rangaswamy</td>\n",
       "      <td>Sudharsan</td>\n",
       "      <td>yeomanly@gmail.com</td>\n",
       "      <td>cm_San_Jose</td>\n",
       "      <td>Saratoga</td>\n",
       "      <td>Sudharsan</td>\n",
       "      <td>Usha</td>\n",
       "      <td>F</td>\n",
       "      <td>Adult</td>\n",
       "      <td>36 to 59 years old</td>\n",
       "      <td>PAID</td>\n",
       "      <td>decided</td>\n",
       "    </tr>\n",
       "    <tr>\n",
       "      <th>2</th>\n",
       "      <td>32</td>\n",
       "      <td>Rangaswamy</td>\n",
       "      <td>Sudharsan</td>\n",
       "      <td>yeomanly@gmail.com</td>\n",
       "      <td>cm_San_Jose</td>\n",
       "      <td>Saratoga</td>\n",
       "      <td>Sudharsan</td>\n",
       "      <td>Riti</td>\n",
       "      <td>F</td>\n",
       "      <td>Child</td>\n",
       "      <td>8</td>\n",
       "      <td>PAID</td>\n",
       "      <td>decided</td>\n",
       "    </tr>\n",
       "    <tr>\n",
       "      <th>3</th>\n",
       "      <td>32</td>\n",
       "      <td>Rangaswamy</td>\n",
       "      <td>Sudharsan</td>\n",
       "      <td>yeomanly@gmail.com</td>\n",
       "      <td>cm_San_Jose</td>\n",
       "      <td>Saratoga</td>\n",
       "      <td>Sudharsan</td>\n",
       "      <td>Tanvi</td>\n",
       "      <td>F</td>\n",
       "      <td>Child</td>\n",
       "      <td>2</td>\n",
       "      <td>PAID</td>\n",
       "      <td>decided</td>\n",
       "    </tr>\n",
       "    <tr>\n",
       "      <th>4</th>\n",
       "      <td>37</td>\n",
       "      <td>Pandya</td>\n",
       "      <td>Bela</td>\n",
       "      <td>bela.pandya@cmsj.org</td>\n",
       "      <td>cm_San_Jose</td>\n",
       "      <td>San Ramon</td>\n",
       "      <td>Pandya</td>\n",
       "      <td>Bela</td>\n",
       "      <td>F</td>\n",
       "      <td>Adult</td>\n",
       "      <td>36 to 59 years old</td>\n",
       "      <td>PAID</td>\n",
       "      <td>decided</td>\n",
       "    </tr>\n",
       "  </tbody>\n",
       "</table>\n",
       "</div>"
      ],
      "text/plain": [
       "   Family ID ContactName.last ContactName.first                 Email  \\\n",
       "0         32       Rangaswamy         Sudharsan    yeomanly@gmail.com   \n",
       "1         32       Rangaswamy         Sudharsan    yeomanly@gmail.com   \n",
       "2         32       Rangaswamy         Sudharsan    yeomanly@gmail.com   \n",
       "3         32       Rangaswamy         Sudharsan    yeomanly@gmail.com   \n",
       "4         37           Pandya              Bela  bela.pandya@cmsj.org   \n",
       "\n",
       "        Center Address.city Participants.name.last Participants.name.first  \\\n",
       "0  cm_San_Jose     Saratoga             Rangaswamy               Sudharsan   \n",
       "1  cm_San_Jose     Saratoga              Sudharsan                    Usha   \n",
       "2  cm_San_Jose     Saratoga              Sudharsan                    Riti   \n",
       "3  cm_San_Jose     Saratoga              Sudharsan                   Tanvi   \n",
       "4  cm_San_Jose    San Ramon                 Pandya                    Bela   \n",
       "\n",
       "  Participants.gender Age Group  Grade/Age Category  PAID  Decided  \n",
       "0                   M     Adult  36 to 59 years old  PAID  decided  \n",
       "1                   F     Adult  36 to 59 years old  PAID  decided  \n",
       "2                   F     Child                   8  PAID  decided  \n",
       "3                   F     Child                   2  PAID  decided  \n",
       "4                   F     Adult  36 to 59 years old  PAID  decided  "
      ]
     },
     "execution_count": 3,
     "metadata": {},
     "output_type": "execute_result"
    }
   ],
   "source": [
    "# Filter out rows where PAID is not \"PAID\" or \"PARTLY PAID\"\n",
    "participants = participants[participants['PAID'].isin(['PAID', 'PARTLY PAID'])]\n",
    "\n",
    "# Filter out rows where Decided is not \"decided\" \n",
    "participants = participants[participants['Decided'] == 'decided']\n",
    "\n",
    "participants.head()\n"
   ]
  },
  {
   "cell_type": "markdown",
   "metadata": {},
   "source": [
    "### Confirm change in `PAID` and `Decided` columns"
   ]
  },
  {
   "cell_type": "code",
   "execution_count": 4,
   "metadata": {},
   "outputs": [
    {
     "name": "stdout",
     "output_type": "stream",
     "text": [
      "Unique values in PAID column:\n",
      "['PAID' 'PARTLY PAID']\n",
      "\n",
      "Unique values in Decided column:\n",
      "['decided']\n"
     ]
    }
   ],
   "source": [
    "# Show unique values in PAID and Decided columns\n",
    "print(\"Unique values in PAID column:\")\n",
    "print(participants['PAID'].unique())\n",
    "print(\"\\nUnique values in Decided column:\") \n",
    "print(participants['Decided'].unique())\n"
   ]
  },
  {
   "cell_type": "markdown",
   "metadata": {},
   "source": [
    "### View all columns"
   ]
  },
  {
   "cell_type": "code",
   "execution_count": 5,
   "metadata": {},
   "outputs": [
    {
     "data": {
      "text/plain": [
       "Index(['Family ID', 'ContactName.last', 'ContactName.first', 'Email', 'Center',\n",
       "       'Address.city', 'Participants.name.last', 'Participants.name.first',\n",
       "       'Participants.gender', 'Age Group', 'Grade/Age Category', 'PAID',\n",
       "       'Decided'],\n",
       "      dtype='object')"
      ]
     },
     "execution_count": 5,
     "metadata": {},
     "output_type": "execute_result"
    }
   ],
   "source": [
    "participants.columns"
   ]
  },
  {
   "cell_type": "markdown",
   "metadata": {},
   "source": [
    "### 3. Drop Age Group column and confirm change"
   ]
  },
  {
   "cell_type": "code",
   "execution_count": 6,
   "metadata": {},
   "outputs": [
    {
     "name": "stdout",
     "output_type": "stream",
     "text": [
      "Columns after removing Age Group:\n",
      "Index(['Family ID', 'ContactName.last', 'ContactName.first', 'Email', 'Center',\n",
      "       'Address.city', 'Participants.name.last', 'Participants.name.first',\n",
      "       'Participants.gender', 'Grade/Age Category', 'PAID', 'Decided'],\n",
      "      dtype='object')\n"
     ]
    }
   ],
   "source": [
    "# Remove Age Group column\n",
    "participants = participants.drop('Age Group', axis=1)\n",
    "\n",
    "# Verify column removal\n",
    "print(\"Columns after removing Age Group:\")\n",
    "print(participants.columns)\n"
   ]
  },
  {
   "cell_type": "markdown",
   "metadata": {},
   "source": [
    "### View all values of `Grade/Age Category`"
   ]
  },
  {
   "cell_type": "code",
   "execution_count": 7,
   "metadata": {},
   "outputs": [
    {
     "name": "stdout",
     "output_type": "stream",
     "text": [
      "Unique values in Grade/Age Category column:\n",
      "['1', '10', '11', '12', '2', '3', '30 to 35 years old', '36 to 59 years old', '4', '5', '6', '60 years and above', '7', '8', '9', 'CHYK Non-working', 'CHYK Working', 'Infant/ShishuVihar', 'KG', 'Pre-KG']\n"
     ]
    }
   ],
   "source": [
    "# Show unique values in Grade/Age Category column\n",
    "print(\"Unique values in Grade/Age Category column:\")\n",
    "print(sorted(participants['Grade/Age Category'].unique()))\n"
   ]
  },
  {
   "cell_type": "markdown",
   "metadata": {},
   "source": [
    "### Categorize CHYKs and older as Adults"
   ]
  },
  {
   "cell_type": "code",
   "execution_count": 8,
   "metadata": {},
   "outputs": [
    {
     "name": "stdout",
     "output_type": "stream",
     "text": [
      "Unique values in Grade/Age Category column after conversion:\n",
      "['1', '10', '11', '12', '2', '3', '4', '5', '6', '7', '8', '9', 'Adult', 'Infant/ShishuVihar', 'KG', 'Pre-KG']\n"
     ]
    }
   ],
   "source": [
    "# Convert values containing \"years\" or \"CHYK\" to \"Adult\" in Grade/Age Category column\n",
    "participants['Grade/Age Category'] = participants['Grade/Age Category'].replace(\n",
    "    {\n",
    "        '36 to 59 years old': 'Adult',\n",
    "        '60 years and above': 'Adult', \n",
    "        '30 to 35 years old': 'Adult',\n",
    "        'CHYK Working': 'Adult',\n",
    "        'CHYK Non-working': 'Adult'\n",
    "    }\n",
    ")\n",
    "\n",
    "# Verify the changes\n",
    "print(\"Unique values in Grade/Age Category column after conversion:\")\n",
    "print(sorted(participants['Grade/Age Category'].unique()))\n"
   ]
  },
  {
   "cell_type": "markdown",
   "metadata": {},
   "source": [
    "### Rename `Grade/Age Category` to `Category`"
   ]
  },
  {
   "cell_type": "code",
   "execution_count": 9,
   "metadata": {},
   "outputs": [
    {
     "name": "stdout",
     "output_type": "stream",
     "text": [
      "Columns after renaming Grade/Age Category:\n",
      "Index(['Family ID', 'ContactName.last', 'ContactName.first', 'Email', 'Center',\n",
      "       'Address.city', 'Participants.name.last', 'Participants.name.first',\n",
      "       'Participants.gender', 'Category', 'PAID', 'Decided'],\n",
      "      dtype='object')\n"
     ]
    }
   ],
   "source": [
    "# Rename Grade/Age Category column to Category\n",
    "participants = participants.rename(columns={'Grade/Age Category': 'Category'})\n",
    "\n",
    "# Verify the column rename\n",
    "print(\"Columns after renaming Grade/Age Category:\")\n",
    "print(participants.columns)\n"
   ]
  },
  {
   "cell_type": "markdown",
   "metadata": {},
   "source": [
    "### 4. Create empty `checkin` column"
   ]
  },
  {
   "cell_type": "code",
   "execution_count": 10,
   "metadata": {},
   "outputs": [
    {
     "name": "stdout",
     "output_type": "stream",
     "text": [
      "\n",
      "Dataframe columns after adding checkin:\n",
      "Index(['Family ID', 'ContactName.last', 'ContactName.first', 'Email', 'Center',\n",
      "       'Address.city', 'Participants.name.last', 'Participants.name.first',\n",
      "       'Participants.gender', 'Category', 'PAID', 'Decided', 'checkin'],\n",
      "      dtype='object')\n"
     ]
    }
   ],
   "source": [
    "# Add a checkin column initialized to False\n",
    "participants['checkin'] = ''\n",
    "\n",
    "\n",
    "# Verify the new column\n",
    "print(\"\\nDataframe columns after adding checkin:\")\n",
    "print(participants.columns)\n"
   ]
  },
  {
   "cell_type": "markdown",
   "metadata": {},
   "source": [
    "### 5. Remove extra spaces and quotations"
   ]
  },
  {
   "cell_type": "code",
   "execution_count": 11,
   "metadata": {},
   "outputs": [
    {
     "data": {
      "text/html": [
       "<div>\n",
       "<style scoped>\n",
       "    .dataframe tbody tr th:only-of-type {\n",
       "        vertical-align: middle;\n",
       "    }\n",
       "\n",
       "    .dataframe tbody tr th {\n",
       "        vertical-align: top;\n",
       "    }\n",
       "\n",
       "    .dataframe thead th {\n",
       "        text-align: right;\n",
       "    }\n",
       "</style>\n",
       "<table border=\"1\" class=\"dataframe\">\n",
       "  <thead>\n",
       "    <tr style=\"text-align: right;\">\n",
       "      <th></th>\n",
       "      <th>Family ID</th>\n",
       "      <th>ContactName.last</th>\n",
       "      <th>ContactName.first</th>\n",
       "      <th>Email</th>\n",
       "      <th>Center</th>\n",
       "      <th>Address.city</th>\n",
       "      <th>Participants.name.last</th>\n",
       "      <th>Participants.name.first</th>\n",
       "      <th>Participants.gender</th>\n",
       "      <th>Category</th>\n",
       "      <th>PAID</th>\n",
       "      <th>Decided</th>\n",
       "      <th>checkin</th>\n",
       "    </tr>\n",
       "  </thead>\n",
       "  <tbody>\n",
       "    <tr>\n",
       "      <th>0</th>\n",
       "      <td>32</td>\n",
       "      <td>Rangaswamy</td>\n",
       "      <td>Sudharsan</td>\n",
       "      <td>yeomanly@gmail.com</td>\n",
       "      <td>cm_San_Jose</td>\n",
       "      <td>Saratoga</td>\n",
       "      <td>Rangaswamy</td>\n",
       "      <td>Sudharsan</td>\n",
       "      <td>M</td>\n",
       "      <td>Adult</td>\n",
       "      <td>PAID</td>\n",
       "      <td>decided</td>\n",
       "      <td></td>\n",
       "    </tr>\n",
       "    <tr>\n",
       "      <th>1</th>\n",
       "      <td>32</td>\n",
       "      <td>Rangaswamy</td>\n",
       "      <td>Sudharsan</td>\n",
       "      <td>yeomanly@gmail.com</td>\n",
       "      <td>cm_San_Jose</td>\n",
       "      <td>Saratoga</td>\n",
       "      <td>Sudharsan</td>\n",
       "      <td>Usha</td>\n",
       "      <td>F</td>\n",
       "      <td>Adult</td>\n",
       "      <td>PAID</td>\n",
       "      <td>decided</td>\n",
       "      <td></td>\n",
       "    </tr>\n",
       "    <tr>\n",
       "      <th>2</th>\n",
       "      <td>32</td>\n",
       "      <td>Rangaswamy</td>\n",
       "      <td>Sudharsan</td>\n",
       "      <td>yeomanly@gmail.com</td>\n",
       "      <td>cm_San_Jose</td>\n",
       "      <td>Saratoga</td>\n",
       "      <td>Sudharsan</td>\n",
       "      <td>Riti</td>\n",
       "      <td>F</td>\n",
       "      <td>8</td>\n",
       "      <td>PAID</td>\n",
       "      <td>decided</td>\n",
       "      <td></td>\n",
       "    </tr>\n",
       "    <tr>\n",
       "      <th>3</th>\n",
       "      <td>32</td>\n",
       "      <td>Rangaswamy</td>\n",
       "      <td>Sudharsan</td>\n",
       "      <td>yeomanly@gmail.com</td>\n",
       "      <td>cm_San_Jose</td>\n",
       "      <td>Saratoga</td>\n",
       "      <td>Sudharsan</td>\n",
       "      <td>Tanvi</td>\n",
       "      <td>F</td>\n",
       "      <td>2</td>\n",
       "      <td>PAID</td>\n",
       "      <td>decided</td>\n",
       "      <td></td>\n",
       "    </tr>\n",
       "    <tr>\n",
       "      <th>4</th>\n",
       "      <td>37</td>\n",
       "      <td>Pandya</td>\n",
       "      <td>Bela</td>\n",
       "      <td>bela.pandya@cmsj.org</td>\n",
       "      <td>cm_San_Jose</td>\n",
       "      <td>San Ramon</td>\n",
       "      <td>Pandya</td>\n",
       "      <td>Bela</td>\n",
       "      <td>F</td>\n",
       "      <td>Adult</td>\n",
       "      <td>PAID</td>\n",
       "      <td>decided</td>\n",
       "      <td></td>\n",
       "    </tr>\n",
       "  </tbody>\n",
       "</table>\n",
       "</div>"
      ],
      "text/plain": [
       "   Family ID ContactName.last ContactName.first                 Email  \\\n",
       "0         32       Rangaswamy         Sudharsan    yeomanly@gmail.com   \n",
       "1         32       Rangaswamy         Sudharsan    yeomanly@gmail.com   \n",
       "2         32       Rangaswamy         Sudharsan    yeomanly@gmail.com   \n",
       "3         32       Rangaswamy         Sudharsan    yeomanly@gmail.com   \n",
       "4         37           Pandya              Bela  bela.pandya@cmsj.org   \n",
       "\n",
       "        Center Address.city Participants.name.last Participants.name.first  \\\n",
       "0  cm_San_Jose     Saratoga             Rangaswamy               Sudharsan   \n",
       "1  cm_San_Jose     Saratoga              Sudharsan                    Usha   \n",
       "2  cm_San_Jose     Saratoga              Sudharsan                    Riti   \n",
       "3  cm_San_Jose     Saratoga              Sudharsan                   Tanvi   \n",
       "4  cm_San_Jose    San Ramon                 Pandya                    Bela   \n",
       "\n",
       "  Participants.gender Category  PAID  Decided checkin  \n",
       "0                   M    Adult  PAID  decided          \n",
       "1                   F    Adult  PAID  decided          \n",
       "2                   F        8  PAID  decided          \n",
       "3                   F        2  PAID  decided          \n",
       "4                   F    Adult  PAID  decided          "
      ]
     },
     "execution_count": 11,
     "metadata": {},
     "output_type": "execute_result"
    }
   ],
   "source": [
    "participants = participants.applymap(\n",
    "    lambda x: x.strip() if isinstance(x, str) else x\n",
    "    )\n",
    "\n",
    "participants.head()"
   ]
  },
  {
   "cell_type": "markdown",
   "metadata": {},
   "source": [
    "### 6. Save changes to cleaned CSV"
   ]
  },
  {
   "cell_type": "code",
   "execution_count": 12,
   "metadata": {},
   "outputs": [],
   "source": [
    "output_path = \"./data/cff_participants_cleaned.csv\"\n",
    "participants.to_csv(output_path, index=False)"
   ]
  }
 ],
 "metadata": {
  "kernelspec": {
   "display_name": "base",
   "language": "python",
   "name": "python3"
  },
  "language_info": {
   "codemirror_mode": {
    "name": "ipython",
    "version": 3
   },
   "file_extension": ".py",
   "mimetype": "text/x-python",
   "name": "python",
   "nbconvert_exporter": "python",
   "pygments_lexer": "ipython3",
   "version": "3.12.4"
  }
 },
 "nbformat": 4,
 "nbformat_minor": 2
}
