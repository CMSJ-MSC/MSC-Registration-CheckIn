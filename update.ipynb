{
 "cells": [
  {
   "cell_type": "markdown",
   "id": "615b867f",
   "metadata": {},
   "source": [
    "- download the updated CSV on Saturday evening\n",
    "- download current Checkin CSV with new registrants\n",
    "- clean current Checkin CSV\n",
    "- only add _uncommon_ rows from current Checkin CSV to updated CSV\n",
    "- redeploy application with updated CSV as the **base**"
   ]
  },
  {
   "cell_type": "code",
   "execution_count": null,
   "id": "f7d1eb9b",
   "metadata": {},
   "outputs": [],
   "source": []
  }
 ],
 "metadata": {
  "language_info": {
   "name": "python"
  }
 },
 "nbformat": 4,
 "nbformat_minor": 5
}
