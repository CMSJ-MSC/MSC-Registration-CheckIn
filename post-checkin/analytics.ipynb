{
 "cells": [
  {
   "cell_type": "markdown",
   "metadata": {},
   "source": [
    "### Download current Checkin CSV from the [checkin website](https://msc-registration-checkin.onrender.com/)"
   ]
  },
  {
   "cell_type": "code",
   "execution_count": 1,
   "metadata": {},
   "outputs": [],
   "source": [
    "import pandas as pd\n",
    "\n",
    "df = pd.read_csv('./MSC-Checkin.csv')"
   ]
  },
  {
   "cell_type": "code",
   "execution_count": 2,
   "metadata": {},
   "outputs": [],
   "source": [
    "# Create new column mappings\n",
    "df = df.rename(columns={\n",
    "    'Contact First Name': 'ContactName.first',\n",
    "    'Contact Last Name': 'ContactName.last', \n",
    "    'First Name': 'Participants.name.first',\n",
    "    'Last Name': 'Participants.name.last',\n",
    "    'Gender': 'Participants.gender'\n",
    "})\n",
    "\n",
    "# Reorder columns\n",
    "df = df[['Family ID', 'ContactName.first', 'ContactName.last', 'Email', 'Center', 'City', \n",
    "         'Participants.name.first', 'Participants.name.last', 'Participants.gender',\n",
    "         'Category', 'PAID', 'Decided', 'Check-in Status']]\n",
    "\n",
    "# Save to new CSV\n",
    "df.to_csv('./MSC-Checkin.csv', index=False)\n"
   ]
  },
  {
   "cell_type": "markdown",
   "metadata": {},
   "source": [
    "### Total # of People + Families Checked In"
   ]
  },
  {
   "cell_type": "code",
   "execution_count": 3,
   "metadata": {},
   "outputs": [
    {
     "name": "stdout",
     "output_type": "stream",
     "text": [
      "Number of people checked in: 762\n",
      "\n",
      "Family IDs of checked in people:\n",
      "[ 32  37   1   2   3  10  11  16  17  18  20  22  26  29  30  31  33  35\n",
      "  38  39  40  41  42  43  45  48  54  55  59  64  66  67  69  71  72  73\n",
      "  74  75  76  77  78  79  80  81  83  84  85  86  87  89  91  92  95  97\n",
      "  98  99 100 103 104 106 107 114 115 116 117 118 123 125 126 127 128 129\n",
      " 131 132 135 139 140 141 142 143 144 145 147 149 151 152 153 154 155 156\n",
      " 159 161 163 164 169 171 175 179 181 182 183 184 185 186 189 191 195 196\n",
      " 199 200 205 207 210 211 214 215 216 217 218 219 221 222 225 227 230 232\n",
      " 234 236 239 240 241 244 245 248 251 255 258 260 261 262 263 265 267 268\n",
      " 269 271 275 276 277 278 281 282 286 289 293 294 295 296 297 298 299 301\n",
      " 303 306 308 309 312 313 316 317 318 320 321 323 327 329 330 331 332 334\n",
      " 335 337 339 344 345 350 359 360 365 366 368 369 370 372 373 374 375 376\n",
      " 377 379 380 381 383 384 386 387 389 390 391 393 394 395 396 397 398 399\n",
      " 401 402 404 411 418 423 425 430 433 434 435 440 441 442 443 444 457 458\n",
      " 463 464 465 466 468 470 471 472 473 476 477 478 479 483 484 486 487 488\n",
      " 489 492 494 495 501 504 505 507 510 512 513 519 520 521 522 523 525 526\n",
      " 528 531 532 533 534 538 540 541 543 545 546 547 548 549 551 554 559 561\n",
      " 562 564 570 577 578 579 582 583 586 588 589 596 600 606 608 611 613 616\n",
      " 618 619 622 623 628 632 634 635 637 640 655 657 660 662 664 667 675 676\n",
      " 679 682 684 685 687 691 695 697 699 704 705 707 708 712 714 716 717 718\n",
      " 720 723 726 727 728]\n",
      "\n",
      "Number of unique families checked in:\n",
      "347\n"
     ]
    }
   ],
   "source": [
    "# Count checked in people\n",
    "checked_in = df[df['Check-in Status'] == 'checked-in']\n",
    "num_checked_in = len(checked_in)\n",
    "\n",
    "print(f\"Number of people checked in: {num_checked_in}\")\n",
    "print(\"\\nFamily IDs of checked in people:\")\n",
    "print(checked_in['Family ID'].unique())\n",
    "print(\"\\nNumber of unique families checked in:\")\n",
    "print(len(checked_in['Family ID'].unique()))"
   ]
  },
  {
   "cell_type": "markdown",
   "metadata": {},
   "source": [
    "### Checkin Count by Gender"
   ]
  },
  {
   "cell_type": "code",
   "execution_count": 4,
   "metadata": {},
   "outputs": [
    {
     "name": "stdout",
     "output_type": "stream",
     "text": [
      "\n",
      "Checked-in Statistics:\n",
      "Total checked in: 762\n",
      "Males checked in: 330\n",
      "Females checked in: 432\n",
      "Adults checked in: 640\n",
      "\n",
      "Children checked in by grade/age:\n",
      "Infant/ShishuVihar     0\n",
      "Pre-KG                 0\n",
      "KG                     0\n",
      "1                      5\n",
      "2                      6\n",
      "3                      3\n",
      "4                     11\n",
      "5                      7\n",
      "6                      8\n",
      "7                     10\n",
      "8                     17\n",
      "9                     17\n",
      "10                    12\n",
      "11                    14\n",
      "12                     6\n"
     ]
    }
   ],
   "source": [
    "# Get gender counts\n",
    "gender_counts = checked_in['Participants.gender'].value_counts()\n",
    "num_males = gender_counts.get('M', 0)\n",
    "num_females = gender_counts.get('F', 0)\n",
    "\n",
    "# Get adult count\n",
    "num_adults = len(checked_in[checked_in['Category'] == 'Adult'])\n",
    "\n",
    "# Get counts by grade/age\n",
    "grade_counts = checked_in[checked_in['Category'].astype(str).str.isnumeric()]['Category'].value_counts().sort_index()\n",
    "\n",
    "print(f\"\\nChecked-in Statistics:\")\n",
    "print(f\"Total checked in: {num_checked_in}\")\n",
    "print(f\"Males checked in: {num_males}\")\n",
    "print(f\"Females checked in: {num_females}\")\n",
    "print(f\"Adults checked in: {num_adults}\")\n",
    "# Define grade order\n",
    "grade_order = ['Infant/ShishuVihar', 'Pre-KG', 'KG'] + [str(i) for i in range(1,13)]\n",
    "\n",
    "# Convert grades to categorical with custom order\n",
    "grade_counts = checked_in[checked_in['Category'].astype(str).str.isnumeric()]['Category']\n",
    "grade_counts = grade_counts.astype('category').cat.set_categories(grade_order, ordered=True)\n",
    "grade_counts = grade_counts.value_counts().sort_index()\n",
    "\n",
    "print(\"\\nChildren checked in by grade/age:\")\n",
    "print(grade_counts.to_string())\n"
   ]
  },
  {
   "cell_type": "code",
   "execution_count": 5,
   "metadata": {},
   "outputs": [
    {
     "name": "stdout",
     "output_type": "stream",
     "text": [
      "\n",
      "Not Checked In Statistics:\n",
      "Total not checked in: 152\n",
      "Adults not checked in: 138\n",
      "\n",
      "Children not checked in by grade/age:\n",
      "Infant/ShishuVihar    0\n",
      "Pre-KG                0\n",
      "KG                    0\n",
      "1                     1\n",
      "2                     1\n",
      "3                     2\n",
      "4                     1\n",
      "5                     1\n",
      "6                     1\n",
      "7                     1\n",
      "8                     1\n",
      "9                     1\n",
      "10                    1\n",
      "11                    1\n",
      "12                    1\n"
     ]
    }
   ],
   "source": [
    "# Get not checked in participants\n",
    "not_checked_in = df[df['Check-in Status'] != 'checked-in']\n",
    "\n",
    "# Count adults not checked in\n",
    "adults_not_checked = len(not_checked_in[not_checked_in['Category'] == 'Adult'])\n",
    "\n",
    "print(\"\\nNot Checked In Statistics:\")\n",
    "print(f\"Total not checked in: {len(not_checked_in)}\")\n",
    "print(f\"Adults not checked in: {adults_not_checked}\")\n",
    "\n",
    "# Get grade counts for not checked in\n",
    "grade_order = ['Infant/ShishuVihar', 'Pre-KG', 'KG'] + [str(i) for i in range(1,13)]\n",
    "not_checked_grades = not_checked_in[not_checked_in['Category'].astype(str).str.isnumeric()]['Category']\n",
    "not_checked_grades = not_checked_grades.astype('category').cat.set_categories(grade_order, ordered=True)\n",
    "not_checked_grade_counts = not_checked_grades.value_counts().sort_index()\n",
    "\n",
    "print(\"\\nChildren not checked in by grade/age:\")\n",
    "print(not_checked_grade_counts.to_string())\n"
   ]
  },
  {
   "cell_type": "markdown",
   "metadata": {},
   "source": [
    "### Delete old `checkin_statistics.xlsx` file"
   ]
  },
  {
   "cell_type": "code",
   "execution_count": 6,
   "metadata": {},
   "outputs": [],
   "source": [
    "# Delete checkin_statistics.xlsx if it exists\n",
    "import os\n",
    "if os.path.exists('checkin_statistics.xlsx'):\n",
    "    os.remove('checkin_statistics.xlsx')\n"
   ]
  },
  {
   "cell_type": "markdown",
   "metadata": {},
   "source": [
    "### Update with new `checkin_statistics.xlsx` file"
   ]
  },
  {
   "cell_type": "code",
   "execution_count": 7,
   "metadata": {},
   "outputs": [
    {
     "name": "stdout",
     "output_type": "stream",
     "text": [
      "Both sheets exported to checkin_statistics.xlsx\n"
     ]
    }
   ],
   "source": [
    "import pandas as pd\n",
    "\n",
    "# === Sheet 1: Checked In Participants ===\n",
    "checked_in = df[df['Check-in Status'].notna() & (df['Check-in Status'] != '')]\n",
    "num_checked_in = len(checked_in)\n",
    "\n",
    "gender_counts = checked_in['Participants.gender'].value_counts()\n",
    "num_males = gender_counts.get('M', 0)\n",
    "num_females = gender_counts.get('F', 0)\n",
    "\n",
    "num_adults = len(checked_in[checked_in['Category'] == 'Adult'])\n",
    "adult_males = len(checked_in[(checked_in['Category'] == 'Adult') & (checked_in['Participants.gender'] == 'M')])\n",
    "adult_females = len(checked_in[(checked_in['Category'] == 'Adult') & (checked_in['Participants.gender'] == 'F')])\n",
    "\n",
    "grade_order = ['Infant/ShishuVihar', 'Pre-KG', 'KG'] + [str(i) for i in range(1, 13)]\n",
    "grade_data_checked = checked_in[checked_in['Category'].isin(grade_order)]\n",
    "grade_counts = grade_data_checked['Category'].astype('category')\n",
    "grade_counts = grade_counts.cat.set_categories(grade_order, ordered=True)\n",
    "grade_counts = grade_counts.value_counts().sort_index()\n",
    "\n",
    "grade_gender_counts = {}\n",
    "for grade in grade_counts.index:\n",
    "    grade_gender_counts[grade] = {\n",
    "        'M': len(checked_in[(checked_in['Category'] == grade) & (checked_in['Participants.gender'] == 'M')]),\n",
    "        'F': len(checked_in[(checked_in['Category'] == grade) & (checked_in['Participants.gender'] == 'F')])\n",
    "    }\n",
    "\n",
    "summary_stats_checked_in = pd.DataFrame({\n",
    "    'Metric': ['Total Checked In', 'Males Checked In', 'Females Checked In', 'Adults Checked In'] +\n",
    "              [f'Grade {grade}' for grade in grade_counts.index],\n",
    "    'Male': [num_males, num_males, 0, adult_males] +\n",
    "            [grade_gender_counts[grade]['M'] for grade in grade_counts.index],\n",
    "    'Female': [num_females, 0, num_females, adult_females] +\n",
    "              [grade_gender_counts[grade]['F'] for grade in grade_counts.index],\n",
    "    'Count': [num_checked_in, num_males, num_females, num_adults] +\n",
    "             list(grade_counts.values)\n",
    "})\n",
    "\n",
    "# === Sheet 2: Not Checked In Participants ===\n",
    "not_checked_in = df[(df['Check-in Status'] == '') | (df['Check-in Status'].isna())]\n",
    "num_not_checked_in = len(not_checked_in)\n",
    "\n",
    "gender_counts_nc = not_checked_in['Participants.gender'].value_counts()\n",
    "num_males_nc = gender_counts_nc.get('M', 0)\n",
    "num_females_nc = gender_counts_nc.get('F', 0)\n",
    "\n",
    "num_adults_nc = len(not_checked_in[not_checked_in['Category'] == 'Adult'])\n",
    "adult_males_nc = len(not_checked_in[(not_checked_in['Category'] == 'Adult') & (not_checked_in['Participants.gender'] == 'M')])\n",
    "adult_females_nc = len(not_checked_in[(not_checked_in['Category'] == 'Adult') & (not_checked_in['Participants.gender'] == 'F')])\n",
    "\n",
    "grade_data_nc = not_checked_in[not_checked_in['Category'].isin(grade_order)]\n",
    "grade_counts_nc = grade_data_nc['Category'].astype('category')\n",
    "grade_counts_nc = grade_counts_nc.cat.set_categories(grade_order, ordered=True)\n",
    "grade_counts_nc = grade_counts_nc.value_counts().sort_index()\n",
    "\n",
    "grade_gender_counts_nc = {}\n",
    "for grade in grade_counts_nc.index:\n",
    "    grade_gender_counts_nc[grade] = {\n",
    "        'M': len(not_checked_in[(not_checked_in['Category'] == grade) & (not_checked_in['Participants.gender'] == 'M')]),\n",
    "        'F': len(not_checked_in[(not_checked_in['Category'] == grade) & (not_checked_in['Participants.gender'] == 'F')])\n",
    "    }\n",
    "\n",
    "summary_stats_not_checked = pd.DataFrame({\n",
    "    'Metric': ['Total Not Checked In', 'Males Not Checked In', 'Females Not Checked In', 'Adults Not Checked In'] +\n",
    "              [f'Grade {grade}' for grade in grade_counts_nc.index],\n",
    "    'Male': [num_males_nc, num_males_nc, 0, adult_males_nc] +\n",
    "            [grade_gender_counts_nc[grade]['M'] for grade in grade_counts_nc.index],\n",
    "    'Female': [num_females_nc, 0, num_females_nc, adult_females_nc] +\n",
    "              [grade_gender_counts_nc[grade]['F'] for grade in grade_counts_nc.index],\n",
    "    'Count': [num_not_checked_in, num_males_nc, num_females_nc, num_adults_nc] +\n",
    "             list(grade_counts_nc.values)\n",
    "})\n",
    "\n",
    "# === Export both to the same Excel file ===\n",
    "with pd.ExcelWriter('checkin_statistics.xlsx') as writer:\n",
    "    summary_stats_checked_in.to_excel(writer, sheet_name='Checked In', index=False)\n",
    "    summary_stats_not_checked.to_excel(writer, sheet_name='Not Checked In', index=False)\n",
    "\n",
    "print(\"Both sheets exported to checkin_statistics.xlsx\")\n"
   ]
  },
  {
   "cell_type": "markdown",
   "metadata": {},
   "source": [
    "### How many people have checked in so far?"
   ]
  },
  {
   "cell_type": "code",
   "execution_count": 8,
   "metadata": {},
   "outputs": [
    {
     "name": "stdout",
     "output_type": "stream",
     "text": [
      "\n",
      "Check-in Statistics:\n",
      "Total Registered: 914\n",
      "Total Checked In: 762\n",
      "Check-in Percentage: 83.4%\n"
     ]
    }
   ],
   "source": [
    "# Calculate check-in percentage\n",
    "total_registered = len(df)  # Total number of registered participants\n",
    "total_checked_in = len(checked_in)  # Total number of checked-in participants\n",
    "checkin_percentage = (total_checked_in / total_registered) * 100\n",
    "\n",
    "print(f\"\\nCheck-in Statistics:\")\n",
    "print(f\"Total Registered: {total_registered}\")\n",
    "print(f\"Total Checked In: {total_checked_in}\")\n",
    "print(f\"Check-in Percentage: {checkin_percentage:.1f}%\")\n",
    "\n",
    "# Add to summary stats\n",
    "checkin_stats = pd.DataFrame({\n",
    "    'Metric': ['Check-in Percentage'],\n",
    "    'Count': [f\"{checkin_percentage:.1f}%\"],\n",
    "    'Male': ['--'],\n",
    "    'Female': ['--']\n",
    "})\n",
    "\n"
   ]
  },
  {
   "cell_type": "code",
   "execution_count": 9,
   "metadata": {},
   "outputs": [
    {
     "name": "stdout",
     "output_type": "stream",
     "text": [
      "\\Participants Not Checked In: 152\n"
     ]
    },
    {
     "name": "stderr",
     "output_type": "stream",
     "text": [
      "<>:4: SyntaxWarning: invalid escape sequence '\\P'\n",
      "<>:4: SyntaxWarning: invalid escape sequence '\\P'\n",
      "/var/folders/s2/zqq2s_vs0nv0_017hnyd2jnr0000gn/T/ipykernel_51792/1225087515.py:4: SyntaxWarning: invalid escape sequence '\\P'\n",
      "  print(f\"\\Participants Not Checked In: {len(not_checked_in)}\")\n"
     ]
    }
   ],
   "source": [
    "# Display not checked in participants\n",
    "not_checked_in = df[~df['Check-in Status'].str.contains('checked-in', na=False)]\n",
    "\n",
    "print(f\"\\Participants Not Checked In: {len(not_checked_in)}\")\n"
   ]
  },
  {
   "cell_type": "markdown",
   "metadata": {},
   "source": [
    "### How many people from SJ haven't checked in yet?"
   ]
  },
  {
   "cell_type": "code",
   "execution_count": 10,
   "metadata": {},
   "outputs": [
    {
     "name": "stdout",
     "output_type": "stream",
     "text": [
      "\n",
      "San Jose Center Statistics:\n",
      "Total Registered: 598\n",
      "Not Checked In: 22\n",
      "Check-in Rate: 96.3%\n"
     ]
    }
   ],
   "source": [
    "# Calculate San Jose center check-in stats\n",
    "san_jose_df = df[df['Center'] == 'cm_San_Jose']\n",
    "san_jose_not_checked = san_jose_df[~san_jose_df['Check-in Status'].str.contains('checked-in', na=False)]\n",
    "\n",
    "num_san_jose_total = len(san_jose_df)\n",
    "num_san_jose_not_checked = len(san_jose_not_checked)\n",
    "\n",
    "print(f\"\\nSan Jose Center Statistics:\")\n",
    "print(f\"Total Registered: {num_san_jose_total}\")\n",
    "print(f\"Not Checked In: {num_san_jose_not_checked}\")\n",
    "print(f\"Check-in Rate: {((num_san_jose_total - num_san_jose_not_checked) / num_san_jose_total * 100):.1f}%\")\n",
    "\n",
    "# Add to summary stats\n",
    "san_jose_stats = pd.DataFrame({\n",
    "    'Metric': ['San Jose - Not Checked In'],\n",
    "    'Count': [num_san_jose_not_checked],\n",
    "    'Male': ['--'],\n",
    "    'Female': ['--']\n",
    "})\n",
    "\n"
   ]
  },
  {
   "cell_type": "code",
   "execution_count": null,
   "metadata": {},
   "outputs": [],
   "source": []
  }
 ],
 "metadata": {
  "kernelspec": {
   "display_name": "base",
   "language": "python",
   "name": "python3"
  },
  "language_info": {
   "codemirror_mode": {
    "name": "ipython",
    "version": 3
   },
   "file_extension": ".py",
   "mimetype": "text/x-python",
   "name": "python",
   "nbconvert_exporter": "python",
   "pygments_lexer": "ipython3",
   "version": "3.12.4"
  }
 },
 "nbformat": 4,
 "nbformat_minor": 2
}
