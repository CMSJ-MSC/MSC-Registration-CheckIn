{
 "cells": [
  {
   "cell_type": "code",
   "execution_count": 66,
   "metadata": {},
   "outputs": [],
   "source": [
    "import pandas as pd"
   ]
  },
  {
   "cell_type": "markdown",
   "metadata": {},
   "source": [
    "### Download current Checkin CSV from the [checkin website](https://msc-registration-checkin.onrender.com/)"
   ]
  },
  {
   "cell_type": "code",
   "execution_count": 67,
   "metadata": {},
   "outputs": [],
   "source": [
    "import pandas as pd\n",
    "\n",
    "df = pd.read_csv('./MSC-Checkin.csv')"
   ]
  },
  {
   "cell_type": "markdown",
   "metadata": {},
   "source": [
    "### Total # of People + Families Checked In"
   ]
  },
  {
   "cell_type": "code",
   "execution_count": 68,
   "metadata": {},
   "outputs": [
    {
     "name": "stdout",
     "output_type": "stream",
     "text": [
      "Number of people checked in: 333\n",
      "\n",
      "Family IDs of checked in people:\n",
      "[ 32  37   1   2   3  10  42  45  55  64  69  71  72  73  75  77  80  81\n",
      "  84  85  86  91  92  98  99 100 104 106 107 118 123 125 127 128 129 131\n",
      " 139 141 144 145 147 152 155 163 169 181 182 184 189 191 199 211 215 217\n",
      " 221 222 225 230 239 240 244 245 251 260 261 262 263 267 268 269 275 276\n",
      " 281 282 289 294 295 296 301 303 306 308 317 318 323 330 332 334 335 339\n",
      " 359 360 369 373 374 376 380 381 383 384 386 387 389 391 393 394 395 397\n",
      " 398 399 402 411 433 434 440 443 444 463 464 465 468 472 478 479 484 486\n",
      " 489 495 507 512 532 540 541 546 554 583 596 600 606 608 611 613 616 655\n",
      " 657 660 676 682 684 717 718]\n",
      "\n",
      "Number of unique families checked in:\n",
      "151\n"
     ]
    }
   ],
   "source": [
    "# Count checked in people\n",
    "checked_in = df[df['checkin'] == 'checked-in']\n",
    "num_checked_in = len(checked_in)\n",
    "\n",
    "print(f\"Number of people checked in: {num_checked_in}\")\n",
    "print(\"\\nFamily IDs of checked in people:\")\n",
    "print(checked_in['Family ID'].unique())\n",
    "print(\"\\nNumber of unique families checked in:\")\n",
    "print(len(checked_in['Family ID'].unique()))"
   ]
  },
  {
   "cell_type": "markdown",
   "metadata": {},
   "source": [
    "### Checkin Count by Gender"
   ]
  },
  {
   "cell_type": "code",
   "execution_count": 69,
   "metadata": {},
   "outputs": [
    {
     "name": "stdout",
     "output_type": "stream",
     "text": [
      "\n",
      "Checked-in Statistics:\n",
      "Total checked in: 333\n",
      "Males checked in: 141\n",
      "Females checked in: 192\n",
      "Adults checked in: 283\n",
      "\n",
      "Children checked in by grade/age:\n",
      "Infant/ShishuVihar     0\n",
      "Pre-KG                 0\n",
      "KG                     0\n",
      "1                      1\n",
      "2                      1\n",
      "3                      1\n",
      "4                      7\n",
      "5                      1\n",
      "6                      3\n",
      "7                      5\n",
      "8                      7\n",
      "9                     11\n",
      "10                     6\n",
      "11                     1\n",
      "12                     1\n"
     ]
    }
   ],
   "source": [
    "# Get gender counts\n",
    "gender_counts = checked_in['Participants.gender'].value_counts()\n",
    "num_males = gender_counts.get('M', 0)\n",
    "num_females = gender_counts.get('F', 0)\n",
    "\n",
    "# Get adult count\n",
    "num_adults = len(checked_in[checked_in['Category'] == 'Adult'])\n",
    "\n",
    "# Get counts by grade/age\n",
    "grade_counts = checked_in[checked_in['Category'].astype(str).str.isnumeric()]['Category'].value_counts().sort_index()\n",
    "\n",
    "print(f\"\\nChecked-in Statistics:\")\n",
    "print(f\"Total checked in: {num_checked_in}\")\n",
    "print(f\"Males checked in: {num_males}\")\n",
    "print(f\"Females checked in: {num_females}\")\n",
    "print(f\"Adults checked in: {num_adults}\")\n",
    "# Define grade order\n",
    "grade_order = ['Infant/ShishuVihar', 'Pre-KG', 'KG'] + [str(i) for i in range(1,13)]\n",
    "\n",
    "# Convert grades to categorical with custom order\n",
    "grade_counts = checked_in[checked_in['Category'].astype(str).str.isnumeric()]['Category']\n",
    "grade_counts = grade_counts.astype('category').cat.set_categories(grade_order, ordered=True)\n",
    "grade_counts = grade_counts.value_counts().sort_index()\n",
    "\n",
    "print(\"\\nChildren checked in by grade/age:\")\n",
    "print(grade_counts.to_string())\n"
   ]
  },
  {
   "cell_type": "markdown",
   "metadata": {},
   "source": [
    "### Delete old `checkin_statistics.xlsx` file"
   ]
  },
  {
   "cell_type": "code",
   "execution_count": 70,
   "metadata": {},
   "outputs": [],
   "source": [
    "# Delete checkin_statistics.xlsx if it exists\n",
    "import os\n",
    "if os.path.exists('checkin_statistics.xlsx'):\n",
    "    os.remove('checkin_statistics.xlsx')\n"
   ]
  },
  {
   "cell_type": "markdown",
   "metadata": {},
   "source": [
    "### Update with new `checkin_statistics.xlsx` file"
   ]
  },
  {
   "cell_type": "code",
   "execution_count": 71,
   "metadata": {},
   "outputs": [
    {
     "name": "stdout",
     "output_type": "stream",
     "text": [
      "Statistics exported to checkin_statistics.xlsx\n"
     ]
    }
   ],
   "source": [
    "# Get gender counts\n",
    "gender_counts = checked_in['Participants.gender'].value_counts()\n",
    "num_males = gender_counts.get('M', 0)\n",
    "num_females = gender_counts.get('F', 0)\n",
    "\n",
    "# Get adult count\n",
    "num_adults = len(checked_in[checked_in['Category'] == 'Adult'])\n",
    "adult_males = len(checked_in[(checked_in['Category'] == 'Adult') & (checked_in['Participants.gender'] == 'M')])\n",
    "adult_females = len(checked_in[(checked_in['Category'] == 'Adult') & (checked_in['Participants.gender'] == 'F')])\n",
    "\n",
    "# Get counts by grade/age\n",
    "grade_counts = checked_in[checked_in['Category'].astype(str).str.isnumeric()]['Category'].value_counts().sort_index()\n",
    "\n",
    "# Define grade order and get grade counts\n",
    "grade_order = ['Infant/ShishuVihar', 'Pre-KG', 'KG'] + [str(i) for i in range(1,13)]\n",
    "grade_counts = checked_in[checked_in['Category'].astype(str).str.isnumeric()]['Category']\n",
    "grade_counts = grade_counts.astype('category').cat.set_categories(grade_order, ordered=True)\n",
    "grade_counts = grade_counts.value_counts().sort_index()\n",
    "\n",
    "# Get gender counts by grade\n",
    "grade_gender_counts = {}\n",
    "for grade in grade_counts.index:\n",
    "    grade_gender_counts[grade] = {\n",
    "        'M': len(checked_in[(checked_in['Category'] == grade) & (checked_in['Participants.gender'] == 'M')]),\n",
    "        'F': len(checked_in[(checked_in['Category'] == grade) & (checked_in['Participants.gender'] == 'F')])\n",
    "    }\n",
    "\n",
    "# Create summary statistics dataframe with children by grade included\n",
    "summary_stats = pd.DataFrame({\n",
    "    'Metric': ['Total Checked In', 'Males Checked In', 'Females Checked In', 'Adults Checked In'] + \n",
    "             [f'Grade {grade}' for grade in grade_counts.index],\n",
    "    'Male': [num_males, num_males, 0, adult_males] + \n",
    "           [grade_gender_counts[grade]['M'] for grade in grade_counts.index],\n",
    "    'Female': [num_females, 0, num_females, adult_females] + \n",
    "             [grade_gender_counts[grade]['F'] for grade in grade_counts.index],\n",
    "    'Count': [num_checked_in, num_males, num_females, num_adults] + \n",
    "             list(grade_counts.values)\n",
    "})\n",
    "\n",
    "# Export to Excel\n",
    "with pd.ExcelWriter('checkin_statistics.xlsx') as writer:\n",
    "    summary_stats.to_excel(writer, sheet_name='Statistics', index=False)\n",
    "\n",
    "print(\"Statistics exported to checkin_statistics.xlsx\")"
   ]
  }
 ],
 "metadata": {
  "kernelspec": {
   "display_name": "base",
   "language": "python",
   "name": "python3"
  },
  "language_info": {
   "codemirror_mode": {
    "name": "ipython",
    "version": 3
   },
   "file_extension": ".py",
   "mimetype": "text/x-python",
   "name": "python",
   "nbconvert_exporter": "python",
   "pygments_lexer": "ipython3",
   "version": "3.12.4"
  }
 },
 "nbformat": 4,
 "nbformat_minor": 2
}
