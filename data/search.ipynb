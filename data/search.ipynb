{
 "cells": [
  {
   "cell_type": "code",
   "execution_count": 2,
   "id": "dbd5c405",
   "metadata": {},
   "outputs": [
    {
     "name": "stdout",
     "output_type": "stream",
     "text": [
      "Unique centers:\n",
      "cm_Alpharetta\n",
      "cm_Ann-Arbor\n",
      "cm_Atlanta\n",
      "cm_Austin\n",
      "cm_Australia\n",
      "cm_Bakersfield\n",
      "cm_Boston\n",
      "cm_CalgaryCanada\n",
      "cm_Chicago\n",
      "cm_Columbus\n",
      "cm_Dallas_FortWorth\n",
      "cm_Flint\n",
      "cm_Houston\n",
      "cm_Jacksonville\n",
      "cm_Kansas City\n",
      "cm_Los Angeles\n",
      "cm_Miami\n",
      "cm_Minneapolis\n",
      "cm_New Orleans\n",
      "cm_New York\n",
      "cm_Orlando\n",
      "cm_Peoria\n",
      "cm_Phoenix\n",
      "cm_Pittsburgh\n",
      "cm_Portland\n",
      "cm_Raleigh-Durham\n",
      "cm_Sacramento\n",
      "cm_San Antonio\n",
      "cm_San Diego\n",
      "cm_San_Jose\n",
      "cm_Tampa\n",
      "cm_TorontoCanada\n",
      "cm_Tri-State\n",
      "cm_TrinidadTobagoCouva\n",
      "cm_Washingtonrc\n",
      "cm_other\n"
     ]
    }
   ],
   "source": [
    "import pandas as pd\n",
    "\n",
    "# Read the CSV file\n",
    "df = pd.read_csv('./participants3_cleaned.csv')\n",
    "\n",
    "# Get unique centers and sort them\n",
    "centers = sorted(df['Center'].unique())\n",
    "\n",
    "print(\"Unique centers:\")\n",
    "for center in centers:\n",
    "    print(center)\n"
   ]
  },
  {
   "cell_type": "code",
   "execution_count": null,
   "id": "6e841f38",
   "metadata": {},
   "outputs": [],
   "source": []
  }
 ],
 "metadata": {
  "kernelspec": {
   "display_name": "base",
   "language": "python",
   "name": "python3"
  },
  "language_info": {
   "codemirror_mode": {
    "name": "ipython",
    "version": 3
   },
   "file_extension": ".py",
   "mimetype": "text/x-python",
   "name": "python",
   "nbconvert_exporter": "python",
   "pygments_lexer": "ipython3",
   "version": "3.12.4"
  }
 },
 "nbformat": 4,
 "nbformat_minor": 5
}
